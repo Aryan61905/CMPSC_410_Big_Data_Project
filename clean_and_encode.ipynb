{
 "cells": [
  {
   "cell_type": "code",
   "execution_count": 1,
   "id": "064f0742-ff09-46ad-94e4-e84310336c68",
   "metadata": {},
   "outputs": [],
   "source": [
    "import pandas as pd\n",
    "import numpy as nm\n",
    "import pyspark\n",
    "from pyspark import SparkContext\n",
    "from pyspark.sql import SparkSession\n",
    "from pyspark.sql.types import StructField, StructType, StringType, LongType, IntegerType, FloatType\n",
    "from pyspark.sql.functions import col, column\n",
    "from pyspark.sql.functions import expr\n",
    "from pyspark.sql.functions import split\n",
    "from pyspark.sql import Row"
   ]
  },
  {
   "cell_type": "markdown",
   "id": "12040f97-ab2b-4a53-a96d-52ef9d05ec9c",
   "metadata": {},
   "source": [
    "Clean the data by dropping unnecessary columns (by Suvarana)"
   ]
  },
  {
   "cell_type": "code",
   "execution_count": 2,
   "id": "1942409e-6649-4762-a151-658e446dd848",
   "metadata": {},
   "outputs": [],
   "source": [
    "raw_df = pd.read_csv(\"new_dataset.csv\", low_memory=False,index_col=0)"
   ]
  },
  {
   "cell_type": "code",
   "execution_count": 3,
   "id": "a110fb46-d7ea-4162-ba71-37f0a344fa37",
   "metadata": {},
   "outputs": [],
   "source": [
    "raw_df.drop(['Beat','X Coordinate','Y Coordinate','Location','Updated On'],axis=1,inplace=True)"
   ]
  },
  {
   "cell_type": "code",
   "execution_count": 4,
   "id": "63f99053-4ad0-40ca-b2d2-28691031c1cc",
   "metadata": {},
   "outputs": [],
   "source": [
    "cleaned_df = raw_df.dropna(0,'any')"
   ]
  },
  {
   "cell_type": "markdown",
   "id": "2af47e7d-e542-4da8-91b3-6b6acf8e1697",
   "metadata": {},
   "source": [
    "Encode primary type and location description columns (by Feiting)"
   ]
  },
  {
   "cell_type": "code",
   "execution_count": 5,
   "id": "3129c9a3-240a-4c38-abf6-8184bdcb5404",
   "metadata": {},
   "outputs": [
    {
     "name": "stderr",
     "output_type": "stream",
     "text": [
      "2023-10-26 12:52:44.889223: I tensorflow/core/platform/cpu_feature_guard.cc:182] This TensorFlow binary is optimized to use available CPU instructions in performance-critical operations.\n",
      "To enable the following instructions: AVX2 FMA, in other operations, rebuild TensorFlow with the appropriate compiler flags.\n"
     ]
    }
   ],
   "source": [
    "from tensorflow.keras.preprocessing.text import Tokenizer\n",
    "from tensorflow.keras.preprocessing.sequence import pad_sequences"
   ]
  },
  {
   "cell_type": "code",
   "execution_count": 6,
   "id": "e9a01aba-a8f3-45d0-9111-92a98796e343",
   "metadata": {},
   "outputs": [],
   "source": [
    "tokenizer = Tokenizer()"
   ]
  },
  {
   "cell_type": "code",
   "execution_count": 7,
   "id": "e0b3dc54-8e34-42f3-a145-14e79af1d96f",
   "metadata": {},
   "outputs": [],
   "source": [
    "tokenizer.fit_on_texts(cleaned_df[\"Location Description\"]) "
   ]
  },
  {
   "cell_type": "code",
   "execution_count": 8,
   "id": "323b0db3-557a-4e46-834f-01c866466570",
   "metadata": {},
   "outputs": [],
   "source": [
    "tokenizer.fit_on_texts(cleaned_df[\"Primary Type\"]) "
   ]
  },
  {
   "cell_type": "code",
   "execution_count": 9,
   "id": "fae54c45-adb3-461d-8b95-df21d3ac2181",
   "metadata": {},
   "outputs": [],
   "source": [
    "cleaned_df[\"Loc_Descr_Int\"] = tokenizer.texts_to_sequences(cleaned_df[\"Location Description\"])"
   ]
  },
  {
   "cell_type": "code",
   "execution_count": 10,
   "id": "0583ec85-0006-4dd8-bec7-8e5473f75a7f",
   "metadata": {},
   "outputs": [],
   "source": [
    "cleaned_df[\"Prim_Type_Int\"] = tokenizer.texts_to_sequences(cleaned_df[\"Primary Type\"])"
   ]
  },
  {
   "cell_type": "code",
   "execution_count": 14,
   "id": "bf46e70d-96f1-4335-8395-47cdb4378fd6",
   "metadata": {},
   "outputs": [],
   "source": [
    "encoded_df = cleaned_df.drop(['Location Description','Primary Type'],axis=1)"
   ]
  },
  {
   "cell_type": "code",
   "execution_count": 15,
   "id": "77f81c3b-6d3b-433b-a1a4-af8d079c40df",
   "metadata": {},
   "outputs": [
    {
     "data": {
      "text/plain": [
       "<bound method NDFrame.head of          Case Number                    Date                   Block  IUCR  \\\n",
       "ID                                                                           \n",
       "12045583    JD226426  05/07/2020 10:24:00 AM     035XX S INDIANA AVE  0820   \n",
       "12031001    JD209965  04/16/2020 05:00:00 AM         005XX W 32ND ST  0460   \n",
       "12093529    JD282112  07/01/2020 10:16:00 AM       081XX S COLES AVE  051A   \n",
       "12178140    JD381597  09/27/2020 11:29:00 PM     065XX S WOLCOTT AVE  0460   \n",
       "4144897     HL474854  07/10/2005 03:00:00 PM     062XX S ABERDEEN ST  0430   \n",
       "...              ...                     ...                     ...   ...   \n",
       "12576294    JE487857  12/23/2021 12:00:00 PM  064XX W IRVING PARK RD  0820   \n",
       "12551468    JE457970  11/26/2021 12:00:00 AM         008XX E 82ND ST  1310   \n",
       "12463697    JE347672  08/23/2021 01:45:00 PM      071XX W BELDEN AVE  1570   \n",
       "12444448    JE327445  08/05/2021 05:40:00 PM     063XX S WESTERN AVE  0860   \n",
       "12488065    JE380472  09/16/2021 07:30:00 AM  086XX S MARSHFIELD AVE  0820   \n",
       "\n",
       "                            Description  Arrest  Domestic  District  Ward  \\\n",
       "ID                                                                          \n",
       "12045583                 $500 AND UNDER   False     False       2.0   3.0   \n",
       "12031001                         SIMPLE    True     False       9.0  11.0   \n",
       "12093529           AGGRAVATED - HANDGUN    True     False       4.0   7.0   \n",
       "12178140                         SIMPLE   False     False       7.0  15.0   \n",
       "4144897   AGGRAVATED: OTHER DANG WEAPON   False     False       7.0  16.0   \n",
       "...                                 ...     ...       ...       ...   ...   \n",
       "12576294                 $500 AND UNDER   False     False      16.0  38.0   \n",
       "12551468                    TO PROPERTY   False     False       6.0   8.0   \n",
       "12463697               PUBLIC INDECENCY   False     False      25.0  29.0   \n",
       "12444448                   RETAIL THEFT   False     False       8.0  16.0   \n",
       "12488065                 $500 AND UNDER   False     False       6.0  21.0   \n",
       "\n",
       "          Community Area FBI Code    Year   Latitude  Longitude  \\\n",
       "ID                                                                \n",
       "12045583            35.0       06  2020.0  41.830482 -87.621752   \n",
       "12031001            60.0      08B  2020.0  41.836310 -87.639624   \n",
       "12093529            46.0      04A  2020.0  41.747610 -87.549179   \n",
       "12178140            67.0      08B  2020.0  41.774878 -87.671375   \n",
       "4144897             68.0      04B  2005.0  41.781003 -87.652107   \n",
       "...                  ...      ...     ...        ...        ...   \n",
       "12576294            17.0       06  2021.0  41.952902 -87.787537   \n",
       "12551468            44.0       14  2021.0  41.745803 -87.604450   \n",
       "12463697            25.0       17  2021.0  41.921097 -87.803608   \n",
       "12444448            66.0       06  2021.0  41.778490 -87.683623   \n",
       "12488065            71.0       06  2021.0  41.737141 -87.664317   \n",
       "\n",
       "                                  Loc_Descr_Int Prim_Type_Int  \n",
       "ID                                                             \n",
       "12045583                                    [5]           [2]  \n",
       "12031001                                    [5]           [4]  \n",
       "12093529                                    [1]           [8]  \n",
       "12178140                            [3, 37, 34]           [4]  \n",
       "4144897                                     [1]           [4]  \n",
       "...                                         ...           ...  \n",
       "12576294                           [45, 46, 15]           [2]  \n",
       "12551468                                    [5]        [6, 7]  \n",
       "12463697                                   [28]      [65, 11]  \n",
       "12444448                           [30, 29, 15]           [2]  \n",
       "12488065  [10, 9, 151, 152, 153, 154, 155, 156]           [2]  \n",
       "\n",
       "[352366 rows x 16 columns]>"
      ]
     },
     "execution_count": 15,
     "metadata": {},
     "output_type": "execute_result"
    }
   ],
   "source": [
    "encoded_df.head"
   ]
  },
  {
   "cell_type": "code",
   "execution_count": null,
   "id": "7be62c3d-9d91-4743-942f-ddf70e911dee",
   "metadata": {},
   "outputs": [],
   "source": [
    "encoded_df.to_csv(\"preprocessed_data.csv\")"
   ]
  }
 ],
 "metadata": {
  "kernelspec": {
   "display_name": "Python 3 (ipykernel)",
   "language": "python",
   "name": "python3"
  },
  "language_info": {
   "codemirror_mode": {
    "name": "ipython",
    "version": 3
   },
   "file_extension": ".py",
   "mimetype": "text/x-python",
   "name": "python",
   "nbconvert_exporter": "python",
   "pygments_lexer": "ipython3",
   "version": "3.11.5"
  }
 },
 "nbformat": 4,
 "nbformat_minor": 5
}
