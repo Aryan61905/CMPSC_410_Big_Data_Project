{
 "cells": [
  {
   "cell_type": "code",
   "execution_count": 1,
   "id": "02115838-057a-4929-ba22-168784f4420c",
   "metadata": {},
   "outputs": [
    {
     "name": "stderr",
     "output_type": "stream",
     "text": [
      "/swst/apps/anaconda3/2021.05_gcc-8.5.0/lib/python3.8/site-packages/scipy/__init__.py:138: UserWarning: A NumPy version >=1.16.5 and <1.23.0 is required for this version of SciPy (detected version 1.24.4)\n",
      "  warnings.warn(f\"A NumPy version >={np_minversion} and <{np_maxversion} is required for this version of \"\n"
     ]
    }
   ],
   "source": [
    "import pandas as pd\n",
    "import numpy as nm\n",
    "import pyspark\n",
    "from pyspark import SparkContext\n",
    "from pyspark.sql import SparkSession\n",
    "from pyspark.sql.types import StructField, StructType, StringType, LongType, IntegerType, FloatType\n",
    "from pyspark.sql.functions import col, column\n",
    "from pyspark.sql.functions import expr\n",
    "from pyspark.sql.functions import split\n",
    "from pyspark.sql import Row\n",
    "from pyspark.sql import SQLContext\n",
    "from pyspark.sql.functions import udf\n",
    "from pyspark.sql.types import ArrayType, DoubleType\n",
    "from pyspark.ml.linalg import VectorUDT\n",
    "\n",
    "from pyspark.ml.feature import VectorAssembler, StandardScaler\n",
    "from pyspark.ml.feature import PCA\n",
    "from pyspark.sql.functions import mean, variance\n",
    "import pyspark.sql.functions as F\n",
    "import matplotlib.pyplot as plt\n",
    "import random\n",
    "\n",
    "from pyspark.ml.clustering import KMeans\n",
    "from pyspark.ml.evaluation import ClusteringEvaluator"
   ]
  },
  {
   "cell_type": "code",
   "execution_count": 2,
   "id": "dc889100-6f29-442e-b6ff-f2d4cf6a6179",
   "metadata": {},
   "outputs": [
    {
     "name": "stderr",
     "output_type": "stream",
     "text": [
      "/storage/home/jjw5989/.local/lib/python3.8/site-packages/pyspark/sql/context.py:112: FutureWarning: Deprecated in 3.0.0. Use SparkSession.builder.getOrCreate() instead.\n",
      "  warnings.warn(\n"
     ]
    }
   ],
   "source": [
    "spark = SparkSession.builder.appName(\"PCA\").getOrCreate()\n",
    "sqlContext = SQLContext(spark)"
   ]
  },
  {
   "cell_type": "code",
   "execution_count": 3,
   "id": "2f33a0af-db1d-48f2-8be9-a37546170738",
   "metadata": {},
   "outputs": [],
   "source": [
    "encoded_df = pd.read_csv(\"./preprocessed_data.csv\", low_memory=False,index_col=0)"
   ]
  },
  {
   "cell_type": "code",
   "execution_count": 4,
   "id": "45f9788a-8906-4ec7-9c34-8af2a0ec4943",
   "metadata": {},
   "outputs": [],
   "source": [
    "encoded_df.drop(['Case Number', 'IUCR','Date','Block','FBI Code','Description', \"Loc_Descr_Int\", \"Prim_Type_Int\"],axis=1,inplace=True)"
   ]
  },
  {
   "cell_type": "code",
   "execution_count": 5,
   "id": "076cd9e6-ae4c-4fbc-89ba-4ca23b08a582",
   "metadata": {},
   "outputs": [
    {
     "data": {
      "text/plain": [
       "['Arrest',\n",
       " 'Domestic',\n",
       " 'District',\n",
       " 'Ward',\n",
       " 'Community Area',\n",
       " 'Year',\n",
       " 'Latitude',\n",
       " 'Longitude']"
      ]
     },
     "execution_count": 5,
     "metadata": {},
     "output_type": "execute_result"
    }
   ],
   "source": [
    "feature_columns = encoded_df.columns\n",
    "feature_columns = list(feature_columns)\n",
    "feature_columns"
   ]
  },
  {
   "cell_type": "code",
   "execution_count": 6,
   "id": "343545d7-5d66-43ba-84d5-7dba2a4c6237",
   "metadata": {},
   "outputs": [],
   "source": [
    "df = sqlContext.createDataFrame(encoded_df)"
   ]
  },
  {
   "cell_type": "code",
   "execution_count": 7,
   "id": "5cb47b76-c97d-4094-b4e5-f2994af4688e",
   "metadata": {},
   "outputs": [],
   "source": [
    "cols_to_cast = [\"District\",\"Ward\",\"Community Area\",\"Year\",\"Arrest\",\"Domestic\"]\n",
    "df = df.select([F.col(c).cast('double') if c in cols_to_cast else c for c in df.columns])"
   ]
  },
  {
   "cell_type": "code",
   "execution_count": 8,
   "id": "1891d461-1eb5-489a-bbce-0f7d35e2708a",
   "metadata": {},
   "outputs": [],
   "source": [
    "assembler = VectorAssembler(inputCols=feature_columns, outputCol=\"features\")\n",
    "assembled_data = assembler.transform(df)"
   ]
  },
  {
   "cell_type": "code",
   "execution_count": 9,
   "id": "a41602c5-b20a-4fa2-a09c-f32789587e36",
   "metadata": {},
   "outputs": [],
   "source": [
    "scaler = StandardScaler(inputCol=\"features\", outputCol=\"scaled_features\", withStd=True, withMean=True)\n",
    "scaler_model = scaler.fit(assembled_data)\n",
    "scaled_data = scaler_model.transform(assembled_data)"
   ]
  },
  {
   "cell_type": "code",
   "execution_count": 10,
   "id": "69414cb2-0677-49b5-a333-7e2747b60d7d",
   "metadata": {},
   "outputs": [],
   "source": [
    "pca = PCA(k=2, inputCol=\"scaled_features\", outputCol=\"pcaFeatures\")\n",
    "model = pca.fit(scaled_data)\n",
    "result = model.transform(scaled_data)"
   ]
  },
  {
   "cell_type": "code",
   "execution_count": 11,
   "id": "9db8ed13-1995-4890-900c-6d88efbac8bd",
   "metadata": {},
   "outputs": [
    {
     "name": "stdout",
     "output_type": "stream",
     "text": [
      "Explained Variance:  0.5616831583611909\n"
     ]
    }
   ],
   "source": [
    "explained_variance = model.explainedVariance\n",
    "print(\"Explained Variance: \", sum(explained_variance))"
   ]
  },
  {
   "cell_type": "code",
   "execution_count": 12,
   "id": "36437249-0e9d-4dad-af83-ad092be291a2",
   "metadata": {},
   "outputs": [
    {
     "name": "stdout",
     "output_type": "stream",
     "text": [
      "root\n",
      " |-- Arrest: double (nullable = true)\n",
      " |-- Domestic: double (nullable = true)\n",
      " |-- District: double (nullable = true)\n",
      " |-- Ward: double (nullable = true)\n",
      " |-- Community Area: double (nullable = true)\n",
      " |-- Year: double (nullable = true)\n",
      " |-- Latitude: double (nullable = true)\n",
      " |-- Longitude: double (nullable = true)\n",
      " |-- features: vector (nullable = true)\n",
      " |-- scaled_features: vector (nullable = true)\n",
      " |-- pcaFeatures: vector (nullable = true)\n",
      "\n"
     ]
    }
   ],
   "source": [
    "result.printSchema()"
   ]
  },
  {
   "cell_type": "code",
   "execution_count": 13,
   "id": "c4fab42f-23bc-4333-8206-78a1fa3d9752",
   "metadata": {},
   "outputs": [],
   "source": [
    "def vector_to_array(v):\n",
    "    return v.toArray().tolist()"
   ]
  },
  {
   "cell_type": "code",
   "execution_count": 14,
   "id": "6a28d72e-7da2-46d9-841b-5741b3106015",
   "metadata": {},
   "outputs": [],
   "source": [
    "vector_to_array_udf = udf(vector_to_array, ArrayType(DoubleType()))"
   ]
  },
  {
   "cell_type": "code",
   "execution_count": 15,
   "id": "5865bca5-9e43-49b2-9bdd-f9a27a1a5eab",
   "metadata": {},
   "outputs": [],
   "source": [
    "result = result.withColumn(\"pcaFeaturesArray\", vector_to_array_udf('pcaFeatures'))"
   ]
  },
  {
   "cell_type": "code",
   "execution_count": 16,
   "id": "c081ac00-71f6-4f3c-8ade-eb7f294b4f24",
   "metadata": {},
   "outputs": [],
   "source": [
    "result = result.withColumn('pca1', col('pcaFeaturesArray')[0])\n",
    "result = result.withColumn('pca2', col('pcaFeaturesArray')[1])"
   ]
  },
  {
   "cell_type": "code",
   "execution_count": 17,
   "id": "29b9f8b7-0d99-4ba5-8d6b-4616ec7ae9df",
   "metadata": {},
   "outputs": [],
   "source": [
    "pandas_df = result.select(\"pca1\", \"pca2\").toPandas()"
   ]
  },
  {
   "cell_type": "code",
   "execution_count": 18,
   "id": "5ed285b0-c00e-4965-a308-3b601a02ff67",
   "metadata": {},
   "outputs": [
    {
     "data": {
      "text/html": [
       "<div>\n",
       "<style scoped>\n",
       "    .dataframe tbody tr th:only-of-type {\n",
       "        vertical-align: middle;\n",
       "    }\n",
       "\n",
       "    .dataframe tbody tr th {\n",
       "        vertical-align: top;\n",
       "    }\n",
       "\n",
       "    .dataframe thead th {\n",
       "        text-align: right;\n",
       "    }\n",
       "</style>\n",
       "<table border=\"1\" class=\"dataframe\">\n",
       "  <thead>\n",
       "    <tr style=\"text-align: right;\">\n",
       "      <th></th>\n",
       "      <th>pca1</th>\n",
       "      <th>pca2</th>\n",
       "    </tr>\n",
       "  </thead>\n",
       "  <tbody>\n",
       "    <tr>\n",
       "      <th>0</th>\n",
       "      <td>-1.563981</td>\n",
       "      <td>0.368321</td>\n",
       "    </tr>\n",
       "    <tr>\n",
       "      <th>1</th>\n",
       "      <td>-1.145800</td>\n",
       "      <td>-1.297255</td>\n",
       "    </tr>\n",
       "  </tbody>\n",
       "</table>\n",
       "</div>"
      ],
      "text/plain": [
       "       pca1      pca2\n",
       "0 -1.563981  0.368321\n",
       "1 -1.145800 -1.297255"
      ]
     },
     "execution_count": 18,
     "metadata": {},
     "output_type": "execute_result"
    }
   ],
   "source": [
    "pandas_df.head(2)"
   ]
  },
  {
   "cell_type": "code",
   "execution_count": 19,
   "id": "073ce59d-2b9f-448a-9cb3-2ac207bbeec3",
   "metadata": {},
   "outputs": [],
   "source": [
    "def visualize_PCA(df):\n",
    "    # Set labels and title\n",
    "    plt.scatter(pandas_df['pca1'], pandas_df['pca2'])\n",
    "    plt.xlabel(\"Principle Component 1\")\n",
    "    plt.ylabel(\"Principle Component 2\")\n",
    "    plt.title(\"PCA\")\n",
    "    \n",
    "    # Show the legend\n",
    "    plt.legend()\n",
    "    \n",
    "    # Display the plot\n",
    "    plt.show()"
   ]
  },
  {
   "cell_type": "code",
   "execution_count": 20,
   "id": "25033aff-eb73-44c9-85b8-57f196d7580a",
   "metadata": {},
   "outputs": [
    {
     "name": "stderr",
     "output_type": "stream",
     "text": [
      "No handles with labels found to put in legend.\n"
     ]
    },
    {
     "data": {
      "image/png": "[encoded data removed]",
      "text/plain": [
       "<Figure size 432x288 with 1 Axes>"
      ]
     },
     "metadata": {
      "needs_background": "light"
     },
     "output_type": "display_data"
    }
   ],
   "source": [
    "visualize_PCA(pandas_df)"
   ]
  }
 ],
 "metadata": {
  "kernelspec": {
   "display_name": "Python 3",
   "language": "python",
   "name": "python3"
  },
  "language_info": {
   "codemirror_mode": {
    "name": "ipython",
    "version": 3
   },
   "file_extension": ".py",
   "mimetype": "text/x-python",
   "name": "python",
   "nbconvert_exporter": "python",
   "pygments_lexer": "ipython3",
   "version": "3.8.8"
  }
 },
 "nbformat": 4,
 "nbformat_minor": 5
}
