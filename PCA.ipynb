{
 "cells": [
  {
   "cell_type": "code",
   "execution_count": 74,
   "id": "02115838-057a-4929-ba22-168784f4420c",
   "metadata": {},
   "outputs": [],
   "source": [
    "import pandas as pd\n",
    "import numpy as nm\n",
    "import pyspark\n",
    "from pyspark import SparkContext\n",
    "from pyspark.sql import SparkSession\n",
    "from pyspark.sql.types import StructField, StructType, StringType, LongType, IntegerType, FloatType\n",
    "from pyspark.sql.functions import col, column\n",
    "from pyspark.sql.functions import expr\n",
    "from pyspark.sql.functions import split\n",
    "from pyspark.sql import Row\n",
    "from pyspark.sql import SQLContext\n",
    "from pyspark.sql.functions import udf\n",
    "\n",
    "from pyspark.ml.feature import VectorAssembler, StandardScaler\n",
    "from pyspark.ml.feature import PCA\n",
    "from pyspark.sql.functions import mean\n",
    "import pyspark.sql.functions as F\n",
    "import matplotlib.pyplot as plt\n",
    "import random\n",
    "\n",
    "from pyspark.ml.clustering import KMeans\n",
    "from pyspark.ml.evaluation import ClusteringEvaluator"
   ]
  },
  {
   "cell_type": "code",
   "execution_count": 75,
   "id": "dc889100-6f29-442e-b6ff-f2d4cf6a6179",
   "metadata": {},
   "outputs": [
    {
     "name": "stderr",
     "output_type": "stream",
     "text": [
      "/storage/home/jjw5989/.local/lib/python3.8/site-packages/pyspark/sql/context.py:112: FutureWarning: Deprecated in 3.0.0. Use SparkSession.builder.getOrCreate() instead.\n",
      "  warnings.warn(\n"
     ]
    }
   ],
   "source": [
    "spark = SparkSession.builder.appName(\"PCA\").getOrCreate()\n",
    "sqlContext = SQLContext(spark)"
   ]
  },
  {
   "cell_type": "code",
   "execution_count": 76,
   "id": "2f33a0af-db1d-48f2-8be9-a37546170738",
   "metadata": {},
   "outputs": [],
   "source": [
    "encoded_df = pd.read_csv(\"./preprocessed_data.csv\", low_memory=False,index_col=0)"
   ]
  },
  {
   "cell_type": "code",
   "execution_count": null,
   "id": "dee80322-e620-42f8-a23a-821ff759b58b",
   "metadata": {},
   "outputs": [],
   "source": []
  },
  {
   "cell_type": "code",
   "execution_count": 77,
   "id": "45f9788a-8906-4ec7-9c34-8af2a0ec4943",
   "metadata": {},
   "outputs": [],
   "source": [
    "encoded_df.drop(['Case Number', 'IUCR','Date','Block','FBI Code','Description', \"Loc_Descr_Int\", \"Prim_Type_Int\"],axis=1,inplace=True)"
   ]
  },
  {
   "cell_type": "code",
   "execution_count": 78,
   "id": "076cd9e6-ae4c-4fbc-89ba-4ca23b08a582",
   "metadata": {},
   "outputs": [
    {
     "data": {
      "text/plain": [
       "['Arrest',\n",
       " 'Domestic',\n",
       " 'District',\n",
       " 'Ward',\n",
       " 'Community Area',\n",
       " 'Year',\n",
       " 'Latitude',\n",
       " 'Longitude']"
      ]
     },
     "execution_count": 78,
     "metadata": {},
     "output_type": "execute_result"
    }
   ],
   "source": [
    "feature_columns = encoded_df.columns\n",
    "feature_columns = list(feature_columns)\n",
    "feature_columns"
   ]
  },
  {
   "cell_type": "code",
   "execution_count": null,
   "id": "f0b372b3-4d76-4b3c-8be2-af5b24e4e9b5",
   "metadata": {},
   "outputs": [],
   "source": []
  },
  {
   "cell_type": "code",
   "execution_count": 79,
   "id": "343545d7-5d66-43ba-84d5-7dba2a4c6237",
   "metadata": {},
   "outputs": [],
   "source": [
    "df = sqlContext.createDataFrame(encoded_df)"
   ]
  },
  {
   "cell_type": "code",
   "execution_count": 80,
   "id": "5cb47b76-c97d-4094-b4e5-f2994af4688e",
   "metadata": {},
   "outputs": [],
   "source": [
    "cols_to_cast = [\"District\",\"Ward\",\"Community Area\",\"Year\",\"Arrest\",\"Domestic\"]\n",
    "df = df.select([F.col(c).cast('double') if c in cols_to_cast else c for c in df.columns])"
   ]
  },
  {
   "cell_type": "code",
   "execution_count": 81,
   "id": "1891d461-1eb5-489a-bbce-0f7d35e2708a",
   "metadata": {},
   "outputs": [],
   "source": [
    "assembler = VectorAssembler(inputCols=feature_columns, outputCol=\"features\")\n",
    "assembled_data = assembler.transform(df)"
   ]
  },
  {
   "cell_type": "code",
   "execution_count": 82,
   "id": "a41602c5-b20a-4fa2-a09c-f32789587e36",
   "metadata": {},
   "outputs": [],
   "source": [
    "scaler = StandardScaler(inputCol=\"features\", outputCol=\"scaled_features\", withStd=True, withMean=True)\n",
    "scaler_model = scaler.fit(assembled_data)\n",
    "scaled_data = scaler_model.transform(assembled_data)"
   ]
  },
  {
   "cell_type": "code",
   "execution_count": 83,
   "id": "69414cb2-0677-49b5-a333-7e2747b60d7d",
   "metadata": {},
   "outputs": [],
   "source": [
    "pca = PCA(k=2, inputCol=\"scaled_features\", outputCol=\"pcaFeatures\")\n",
    "model = pca.fit(scaled_data)\n",
    "result = model.transform(scaled_data)"
   ]
  },
  {
   "cell_type": "code",
   "execution_count": 85,
   "id": "36437249-0e9d-4dad-af83-ad092be291a2",
   "metadata": {},
   "outputs": [
    {
     "name": "stdout",
     "output_type": "stream",
     "text": [
      "root\n",
      " |-- Arrest: double (nullable = true)\n",
      " |-- Domestic: double (nullable = true)\n",
      " |-- District: double (nullable = true)\n",
      " |-- Ward: double (nullable = true)\n",
      " |-- Community Area: double (nullable = true)\n",
      " |-- Year: double (nullable = true)\n",
      " |-- Latitude: double (nullable = true)\n",
      " |-- Longitude: double (nullable = true)\n",
      " |-- features: vector (nullable = true)\n",
      " |-- scaled_features: vector (nullable = true)\n",
      " |-- pcaFeatures: vector (nullable = true)\n",
      "\n"
     ]
    }
   ],
   "source": [
    "result.printSchema()"
   ]
  },
  {
   "cell_type": "code",
   "execution_count": 86,
   "id": "c081ac00-71f6-4f3c-8ade-eb7f294b4f24",
   "metadata": {},
   "outputs": [
    {
     "ename": "AnalysisException",
     "evalue": "[INVALID_EXTRACT_BASE_FIELD_TYPE] Can't extract a value from \"pcaFeatures\". Need a complex type [STRUCT, ARRAY, MAP] but got \"STRUCT<type: TINYINT, size: INT, indices: ARRAY<INT>, values: ARRAY<DOUBLE>>\".",
     "output_type": "error",
     "traceback": [
      "\u001b[0;31m---------------------------------------------------------------------------\u001b[0m",
      "\u001b[0;31mAnalysisException\u001b[0m                         Traceback (most recent call last)",
      "\u001b[0;32m<ipython-input-86-b5947349cf51>\u001b[0m in \u001b[0;36m<module>\u001b[0;34m\u001b[0m\n\u001b[0;32m----> 1\u001b[0;31m \u001b[0mresult\u001b[0m \u001b[0;34m=\u001b[0m \u001b[0mresult\u001b[0m\u001b[0;34m.\u001b[0m\u001b[0mwithColumn\u001b[0m\u001b[0;34m(\u001b[0m\u001b[0;34m'pca1'\u001b[0m\u001b[0;34m,\u001b[0m \u001b[0mcol\u001b[0m\u001b[0;34m(\u001b[0m\u001b[0;34m'pcaFeatures'\u001b[0m\u001b[0;34m)\u001b[0m\u001b[0;34m[\u001b[0m\u001b[0;36m0\u001b[0m\u001b[0;34m]\u001b[0m\u001b[0;34m)\u001b[0m\u001b[0;34m\u001b[0m\u001b[0;34m\u001b[0m\u001b[0m\n\u001b[0m\u001b[1;32m      2\u001b[0m \u001b[0mresult\u001b[0m \u001b[0;34m=\u001b[0m \u001b[0mresult\u001b[0m\u001b[0;34m.\u001b[0m\u001b[0mwithColumn\u001b[0m\u001b[0;34m(\u001b[0m\u001b[0;34m'pca2'\u001b[0m\u001b[0;34m,\u001b[0m \u001b[0mcol\u001b[0m\u001b[0;34m(\u001b[0m\u001b[0;34m'pcaFeatures'\u001b[0m\u001b[0;34m)\u001b[0m\u001b[0;34m[\u001b[0m\u001b[0;36m1\u001b[0m\u001b[0;34m]\u001b[0m\u001b[0;34m)\u001b[0m\u001b[0;34m\u001b[0m\u001b[0;34m\u001b[0m\u001b[0m\n",
      "\u001b[0;32m~/.local/lib/python3.8/site-packages/pyspark/sql/dataframe.py\u001b[0m in \u001b[0;36mwithColumn\u001b[0;34m(self, colName, col)\u001b[0m\n\u001b[1;32m   4787\u001b[0m                 \u001b[0mmessage_parameters\u001b[0m\u001b[0;34m=\u001b[0m\u001b[0;34m{\u001b[0m\u001b[0;34m\"arg_name\"\u001b[0m\u001b[0;34m:\u001b[0m \u001b[0;34m\"col\"\u001b[0m\u001b[0;34m,\u001b[0m \u001b[0;34m\"arg_type\"\u001b[0m\u001b[0;34m:\u001b[0m \u001b[0mtype\u001b[0m\u001b[0;34m(\u001b[0m\u001b[0mcol\u001b[0m\u001b[0;34m)\u001b[0m\u001b[0;34m.\u001b[0m\u001b[0m__name__\u001b[0m\u001b[0;34m}\u001b[0m\u001b[0;34m,\u001b[0m\u001b[0;34m\u001b[0m\u001b[0;34m\u001b[0m\u001b[0m\n\u001b[1;32m   4788\u001b[0m             )\n\u001b[0;32m-> 4789\u001b[0;31m         \u001b[0;32mreturn\u001b[0m \u001b[0mDataFrame\u001b[0m\u001b[0;34m(\u001b[0m\u001b[0mself\u001b[0m\u001b[0;34m.\u001b[0m\u001b[0m_jdf\u001b[0m\u001b[0;34m.\u001b[0m\u001b[0mwithColumn\u001b[0m\u001b[0;34m(\u001b[0m\u001b[0mcolName\u001b[0m\u001b[0;34m,\u001b[0m \u001b[0mcol\u001b[0m\u001b[0;34m.\u001b[0m\u001b[0m_jc\u001b[0m\u001b[0;34m)\u001b[0m\u001b[0;34m,\u001b[0m \u001b[0mself\u001b[0m\u001b[0;34m.\u001b[0m\u001b[0msparkSession\u001b[0m\u001b[0;34m)\u001b[0m\u001b[0;34m\u001b[0m\u001b[0;34m\u001b[0m\u001b[0m\n\u001b[0m\u001b[1;32m   4790\u001b[0m \u001b[0;34m\u001b[0m\u001b[0m\n\u001b[1;32m   4791\u001b[0m     \u001b[0;32mdef\u001b[0m \u001b[0mwithColumnRenamed\u001b[0m\u001b[0;34m(\u001b[0m\u001b[0mself\u001b[0m\u001b[0;34m,\u001b[0m \u001b[0mexisting\u001b[0m\u001b[0;34m:\u001b[0m \u001b[0mstr\u001b[0m\u001b[0;34m,\u001b[0m \u001b[0mnew\u001b[0m\u001b[0;34m:\u001b[0m \u001b[0mstr\u001b[0m\u001b[0;34m)\u001b[0m \u001b[0;34m->\u001b[0m \u001b[0;34m\"DataFrame\"\u001b[0m\u001b[0;34m:\u001b[0m\u001b[0;34m\u001b[0m\u001b[0;34m\u001b[0m\u001b[0m\n",
      "\u001b[0;32m~/.local/lib/python3.8/site-packages/py4j/java_gateway.py\u001b[0m in \u001b[0;36m__call__\u001b[0;34m(self, *args)\u001b[0m\n\u001b[1;32m   1320\u001b[0m \u001b[0;34m\u001b[0m\u001b[0m\n\u001b[1;32m   1321\u001b[0m         \u001b[0manswer\u001b[0m \u001b[0;34m=\u001b[0m \u001b[0mself\u001b[0m\u001b[0;34m.\u001b[0m\u001b[0mgateway_client\u001b[0m\u001b[0;34m.\u001b[0m\u001b[0msend_command\u001b[0m\u001b[0;34m(\u001b[0m\u001b[0mcommand\u001b[0m\u001b[0;34m)\u001b[0m\u001b[0;34m\u001b[0m\u001b[0;34m\u001b[0m\u001b[0m\n\u001b[0;32m-> 1322\u001b[0;31m         return_value = get_return_value(\n\u001b[0m\u001b[1;32m   1323\u001b[0m             answer, self.gateway_client, self.target_id, self.name)\n\u001b[1;32m   1324\u001b[0m \u001b[0;34m\u001b[0m\u001b[0m\n",
      "\u001b[0;32m~/.local/lib/python3.8/site-packages/pyspark/errors/exceptions/captured.py\u001b[0m in \u001b[0;36mdeco\u001b[0;34m(*a, **kw)\u001b[0m\n\u001b[1;32m    173\u001b[0m                 \u001b[0;31m# Hide where the exception came from that shows a non-Pythonic\u001b[0m\u001b[0;34m\u001b[0m\u001b[0;34m\u001b[0m\u001b[0;34m\u001b[0m\u001b[0m\n\u001b[1;32m    174\u001b[0m                 \u001b[0;31m# JVM exception message.\u001b[0m\u001b[0;34m\u001b[0m\u001b[0;34m\u001b[0m\u001b[0;34m\u001b[0m\u001b[0m\n\u001b[0;32m--> 175\u001b[0;31m                 \u001b[0;32mraise\u001b[0m \u001b[0mconverted\u001b[0m \u001b[0;32mfrom\u001b[0m \u001b[0;32mNone\u001b[0m\u001b[0;34m\u001b[0m\u001b[0;34m\u001b[0m\u001b[0m\n\u001b[0m\u001b[1;32m    176\u001b[0m             \u001b[0;32melse\u001b[0m\u001b[0;34m:\u001b[0m\u001b[0;34m\u001b[0m\u001b[0;34m\u001b[0m\u001b[0m\n\u001b[1;32m    177\u001b[0m                 \u001b[0;32mraise\u001b[0m\u001b[0;34m\u001b[0m\u001b[0;34m\u001b[0m\u001b[0m\n",
      "\u001b[0;31mAnalysisException\u001b[0m: [INVALID_EXTRACT_BASE_FIELD_TYPE] Can't extract a value from \"pcaFeatures\". Need a complex type [STRUCT, ARRAY, MAP] but got \"STRUCT<type: TINYINT, size: INT, indices: ARRAY<INT>, values: ARRAY<DOUBLE>>\"."
     ]
    }
   ],
   "source": [
    "result = result.withColumn('pca1', col('pcaFeatures')[0])\n",
    "result = result.withColumn('pca2', col('pcaFeatures')[1])"
   ]
  },
  {
   "cell_type": "code",
   "execution_count": 73,
   "id": "29b9f8b7-0d99-4ba5-8d6b-4616ec7ae9df",
   "metadata": {},
   "outputs": [
    {
     "ename": "AnalysisException",
     "evalue": "[UNRESOLVED_COLUMN.WITH_SUGGESTION] A column or function parameter with name `pca1` cannot be resolved. Did you mean one of the following? [`Year`, `Ward`, `Arrest`, `features`, `District`].;\n'Project ['pca1, 'pca2]\n+- Project [Arrest#483, Domestic#484, District#485, Ward#486, Community Area#487, Year#488, Latitude#473, Longitude#474, features#498, scaled_features#545, UDF(scaled_features#545) AS pcaFeatures#584]\n   +- Project [Arrest#483, Domestic#484, District#485, Ward#486, Community Area#487, Year#488, Latitude#473, Longitude#474, features#498, UDF(features#498) AS scaled_features#545]\n      +- Project [Arrest#483, Domestic#484, District#485, Ward#486, Community Area#487, Year#488, Latitude#473, Longitude#474, UDF(struct(Arrest, Arrest#483, Domestic, Domestic#484, District, District#485, Ward, Ward#486, Community Area, Community Area#487, Year, Year#488, Latitude, Latitude#473, Longitude, Longitude#474)) AS features#498]\n         +- Project [cast(Arrest#467 as double) AS Arrest#483, cast(Domestic#468 as double) AS Domestic#484, cast(District#469 as double) AS District#485, cast(Ward#470 as double) AS Ward#486, cast(Community Area#471 as double) AS Community Area#487, cast(Year#472 as double) AS Year#488, Latitude#473, Longitude#474]\n            +- LogicalRDD [Arrest#467, Domestic#468, District#469, Ward#470, Community Area#471, Year#472, Latitude#473, Longitude#474], false\n",
     "output_type": "error",
     "traceback": [
      "\u001b[0;31m---------------------------------------------------------------------------\u001b[0m",
      "\u001b[0;31mAnalysisException\u001b[0m                         Traceback (most recent call last)",
      "\u001b[0;32m<ipython-input-73-fc7538c757ec>\u001b[0m in \u001b[0;36m<module>\u001b[0;34m\u001b[0m\n\u001b[0;32m----> 1\u001b[0;31m \u001b[0mpanads_df\u001b[0m \u001b[0;34m=\u001b[0m \u001b[0mresult\u001b[0m\u001b[0;34m.\u001b[0m\u001b[0mselect\u001b[0m\u001b[0;34m(\u001b[0m\u001b[0;34m\"pca1\"\u001b[0m\u001b[0;34m,\u001b[0m \u001b[0;34m\"pca2\"\u001b[0m\u001b[0;34m)\u001b[0m\u001b[0;34m.\u001b[0m\u001b[0mtoPandas\u001b[0m\u001b[0;34m(\u001b[0m\u001b[0;34m)\u001b[0m\u001b[0;34m\u001b[0m\u001b[0;34m\u001b[0m\u001b[0m\n\u001b[0m",
      "\u001b[0;32m~/.local/lib/python3.8/site-packages/pyspark/sql/dataframe.py\u001b[0m in \u001b[0;36mselect\u001b[0;34m(self, *cols)\u001b[0m\n\u001b[1;32m   3034\u001b[0m         \u001b[0;34m+\u001b[0m\u001b[0;34m-\u001b[0m\u001b[0;34m-\u001b[0m\u001b[0;34m-\u001b[0m\u001b[0;34m-\u001b[0m\u001b[0;34m-\u001b[0m\u001b[0;34m+\u001b[0m\u001b[0;34m-\u001b[0m\u001b[0;34m-\u001b[0m\u001b[0;34m-\u001b[0m\u001b[0;34m+\u001b[0m\u001b[0;34m\u001b[0m\u001b[0;34m\u001b[0m\u001b[0m\n\u001b[1;32m   3035\u001b[0m         \"\"\"\n\u001b[0;32m-> 3036\u001b[0;31m         \u001b[0mjdf\u001b[0m \u001b[0;34m=\u001b[0m \u001b[0mself\u001b[0m\u001b[0;34m.\u001b[0m\u001b[0m_jdf\u001b[0m\u001b[0;34m.\u001b[0m\u001b[0mselect\u001b[0m\u001b[0;34m(\u001b[0m\u001b[0mself\u001b[0m\u001b[0;34m.\u001b[0m\u001b[0m_jcols\u001b[0m\u001b[0;34m(\u001b[0m\u001b[0;34m*\u001b[0m\u001b[0mcols\u001b[0m\u001b[0;34m)\u001b[0m\u001b[0;34m)\u001b[0m\u001b[0;34m\u001b[0m\u001b[0;34m\u001b[0m\u001b[0m\n\u001b[0m\u001b[1;32m   3037\u001b[0m         \u001b[0;32mreturn\u001b[0m \u001b[0mDataFrame\u001b[0m\u001b[0;34m(\u001b[0m\u001b[0mjdf\u001b[0m\u001b[0;34m,\u001b[0m \u001b[0mself\u001b[0m\u001b[0;34m.\u001b[0m\u001b[0msparkSession\u001b[0m\u001b[0;34m)\u001b[0m\u001b[0;34m\u001b[0m\u001b[0;34m\u001b[0m\u001b[0m\n\u001b[1;32m   3038\u001b[0m \u001b[0;34m\u001b[0m\u001b[0m\n",
      "\u001b[0;32m~/.local/lib/python3.8/site-packages/py4j/java_gateway.py\u001b[0m in \u001b[0;36m__call__\u001b[0;34m(self, *args)\u001b[0m\n\u001b[1;32m   1320\u001b[0m \u001b[0;34m\u001b[0m\u001b[0m\n\u001b[1;32m   1321\u001b[0m         \u001b[0manswer\u001b[0m \u001b[0;34m=\u001b[0m \u001b[0mself\u001b[0m\u001b[0;34m.\u001b[0m\u001b[0mgateway_client\u001b[0m\u001b[0;34m.\u001b[0m\u001b[0msend_command\u001b[0m\u001b[0;34m(\u001b[0m\u001b[0mcommand\u001b[0m\u001b[0;34m)\u001b[0m\u001b[0;34m\u001b[0m\u001b[0;34m\u001b[0m\u001b[0m\n\u001b[0;32m-> 1322\u001b[0;31m         return_value = get_return_value(\n\u001b[0m\u001b[1;32m   1323\u001b[0m             answer, self.gateway_client, self.target_id, self.name)\n\u001b[1;32m   1324\u001b[0m \u001b[0;34m\u001b[0m\u001b[0m\n",
      "\u001b[0;32m~/.local/lib/python3.8/site-packages/pyspark/errors/exceptions/captured.py\u001b[0m in \u001b[0;36mdeco\u001b[0;34m(*a, **kw)\u001b[0m\n\u001b[1;32m    173\u001b[0m                 \u001b[0;31m# Hide where the exception came from that shows a non-Pythonic\u001b[0m\u001b[0;34m\u001b[0m\u001b[0;34m\u001b[0m\u001b[0;34m\u001b[0m\u001b[0m\n\u001b[1;32m    174\u001b[0m                 \u001b[0;31m# JVM exception message.\u001b[0m\u001b[0;34m\u001b[0m\u001b[0;34m\u001b[0m\u001b[0;34m\u001b[0m\u001b[0m\n\u001b[0;32m--> 175\u001b[0;31m                 \u001b[0;32mraise\u001b[0m \u001b[0mconverted\u001b[0m \u001b[0;32mfrom\u001b[0m \u001b[0;32mNone\u001b[0m\u001b[0;34m\u001b[0m\u001b[0;34m\u001b[0m\u001b[0m\n\u001b[0m\u001b[1;32m    176\u001b[0m             \u001b[0;32melse\u001b[0m\u001b[0;34m:\u001b[0m\u001b[0;34m\u001b[0m\u001b[0;34m\u001b[0m\u001b[0m\n\u001b[1;32m    177\u001b[0m                 \u001b[0;32mraise\u001b[0m\u001b[0;34m\u001b[0m\u001b[0;34m\u001b[0m\u001b[0m\n",
      "\u001b[0;31mAnalysisException\u001b[0m: [UNRESOLVED_COLUMN.WITH_SUGGESTION] A column or function parameter with name `pca1` cannot be resolved. Did you mean one of the following? [`Year`, `Ward`, `Arrest`, `features`, `District`].;\n'Project ['pca1, 'pca2]\n+- Project [Arrest#483, Domestic#484, District#485, Ward#486, Community Area#487, Year#488, Latitude#473, Longitude#474, features#498, scaled_features#545, UDF(scaled_features#545) AS pcaFeatures#584]\n   +- Project [Arrest#483, Domestic#484, District#485, Ward#486, Community Area#487, Year#488, Latitude#473, Longitude#474, features#498, UDF(features#498) AS scaled_features#545]\n      +- Project [Arrest#483, Domestic#484, District#485, Ward#486, Community Area#487, Year#488, Latitude#473, Longitude#474, UDF(struct(Arrest, Arrest#483, Domestic, Domestic#484, District, District#485, Ward, Ward#486, Community Area, Community Area#487, Year, Year#488, Latitude, Latitude#473, Longitude, Longitude#474)) AS features#498]\n         +- Project [cast(Arrest#467 as double) AS Arrest#483, cast(Domestic#468 as double) AS Domestic#484, cast(District#469 as double) AS District#485, cast(Ward#470 as double) AS Ward#486, cast(Community Area#471 as double) AS Community Area#487, cast(Year#472 as double) AS Year#488, Latitude#473, Longitude#474]\n            +- LogicalRDD [Arrest#467, Domestic#468, District#469, Ward#470, Community Area#471, Year#472, Latitude#473, Longitude#474], false\n"
     ]
    }
   ],
   "source": [
    "panads_df = result.select(\"pca1\", \"pca2\").toPandas()"
   ]
  },
  {
   "cell_type": "code",
   "execution_count": null,
   "id": "073ce59d-2b9f-448a-9cb3-2ac207bbeec3",
   "metadata": {},
   "outputs": [],
   "source": [
    "def visualize_PCA(df):\n",
    "    # Set labels and title\n",
    "    plt.xlabel(\"PCA_Feature_1\")\n",
    "    plt.ylabel(\"PCA_Feature_2\")\n",
    "    plt.title(\"PCA\")\n",
    "    \n",
    "    # Show the legend\n",
    "    plt.legend()\n",
    "    \n",
    "    # Display the plot\n",
    "    plt.show()"
   ]
  },
  {
   "cell_type": "code",
   "execution_count": 55,
   "id": "3652e62b-f6f2-4d06-a26b-4966d7b2a328",
   "metadata": {},
   "outputs": [],
   "source": [
    "def fit_kmeans(df_input,column_name='pcaFeatures',num_cluster_centers=3):\n",
    "    '''\n",
    "    Requires\n",
    "    df_input: spark dataframe with column name \"features\" having vector of real-valued inputs\n",
    "    num_cluster_centers: integer that tells the algorithm the value of k\n",
    "    column_name: column name (string) that indicates which vector of features to choose\n",
    "    Returns\n",
    "    cluster_data: spark dataframe with predictions\n",
    "    silhouette_score: float with silhouette score\n",
    "    wcss: float within cluster sum of squares\n",
    "    '''\n",
    "    # Create a K-Means instance\n",
    "    kmeans = KMeans().setK(num_cluster_centers).setSeed(1)\n",
    "    \n",
    "    # Fit the K-Means model to the data\n",
    "    model = kmeans.fit(df_input)\n",
    "       \n",
    "    # Get the cluster assignments for each data point\n",
    "    clustered_data = model.transform(df_input)\n",
    "\n",
    "    # Evaluate the clustering using the ClusteringEvaluator\n",
    "    evaluator = ClusteringEvaluator()\n",
    "    silhouette_score = evaluator.evaluate(clustered_data)\n",
    "\n",
    "    # Print the WCSS (Within-Cluster Sum of Squares)\n",
    "    wcss = model.summary.trainingCost\n",
    "    \n",
    "    # Get the cluster sizes and centers\n",
    "    cluster_sizes = clustered_data.groupBy(\"prediction\").count()\n",
    "    cluster_sizes.show()\n",
    "    \n",
    "    # Return the clustered data\n",
    "    return clustered_data, silhouette_score, wcss"
   ]
  },
  {
   "cell_type": "code",
   "execution_count": 56,
   "id": "3ae9ca85-e7d0-4cb5-aa0c-3ab81e8719d8",
   "metadata": {},
   "outputs": [],
   "source": [
    "def generate_random_color():\n",
    "    r = random.random()\n",
    "    g = random.random()\n",
    "    b = random.random()\n",
    "    return (r, g, b)"
   ]
  },
  {
   "cell_type": "code",
   "execution_count": 57,
   "id": "4ef49586-3c4d-4ad0-a85b-cc421db64d63",
   "metadata": {},
   "outputs": [],
   "source": [
    "def visualize_clusters_2D(clustered_data, feature_1, feature_2,  num_cluster_centers=3):\n",
    "    '''\n",
    "    Requires:\n",
    "    clustered_data: dataframe returned from Kmeans fit\n",
    "    num_cluster_centers: integer number of clusters\n",
    "    feature_1: string with identifiers for first column name\n",
    "    feature_2: string with identifiers for second column name\n",
    "    '''\n",
    "    \n",
    "    # Convert the DataFrame to a Pandas DataFrame for visualization\n",
    "    pandas_df = clustered_data.select(feature_1, feature_2, \"prediction\").toPandas()\n",
    "    \n",
    "    # Extract the cluster assignments\n",
    "    cluster_assignments = pandas_df[\"prediction\"]\n",
    "    \n",
    "    # Extract the indices for the cluster center\n",
    "    p1 = feature_columns.index(feature_1)\n",
    "    p2 = feature_columns.index(feature_2)\n",
    "    \n",
    "    # Create a scatter plot for each cluster\n",
    "    for cluster_id in range(num_cluster_centers):\n",
    "        # Generate a random color\n",
    "        random_color = generate_random_color()        \n",
    "        cluster_data = pandas_df[pandas_df[\"prediction\"] == cluster_id]\n",
    "        plt.scatter(cluster_data[feature_1], cluster_data[feature_2], color=[random_color], label=f'Cluster {cluster_id}')\n",
    "        plt.scatter(cluster_data[feature_1].mean(),cluster_data[feature_2].mean(), color=[random_color], marker='x', s=500)\n",
    "    \n",
    "    # Set labels and title\n",
    "    plt.xlabel(feature_1)\n",
    "    plt.ylabel(feature_2)\n",
    "    plt.title(\"K-Means Clustering\")\n",
    "    \n",
    "    # Show the legend\n",
    "    plt.legend()\n",
    "    \n",
    "    # Display the plot\n",
    "    plt.show()"
   ]
  },
  {
   "cell_type": "code",
   "execution_count": 58,
   "id": "d19622a0-3def-4ea5-9fc5-4d0c2628c97d",
   "metadata": {},
   "outputs": [
    {
     "name": "stdout",
     "output_type": "stream",
     "text": [
      "+----------+------+\n",
      "|prediction| count|\n",
      "+----------+------+\n",
      "|         1|124473|\n",
      "|         2| 94641|\n",
      "|         0|133252|\n",
      "+----------+------+\n",
      "\n"
     ]
    }
   ],
   "source": [
    "num_centers = 3\n",
    "clustered_data, _, _ = fit_kmeans(result,column_name='pcaFeatures',num_cluster_centers=num_centers)"
   ]
  },
  {
   "cell_type": "code",
   "execution_count": 59,
   "id": "5b64237e-c798-4917-b8ef-2e0b524916a1",
   "metadata": {},
   "outputs": [
    {
     "data": {
      "text/plain": [
       "[Row(Arrest=0.0, Domestic=0.0, District=2.0, Ward=3.0, Community Area=35.0, Year=2020.0, Latitude=41.830481843, Longitude=-87.621751752, features=DenseVector([0.0, 0.0, 2.0, 3.0, 35.0, 2020.0, 41.8305, -87.6218]), scaled_features=DenseVector([-0.4637, -0.5097, -1.3255, -1.4327, -0.1114, 0.4767, -0.1293, 0.8075]), pcaFeatures=DenseVector([-1.564, 0.3683, -1.0406, 0.2879, 0.6409, -0.993]), prediction=0)]"
      ]
     },
     "execution_count": 59,
     "metadata": {},
     "output_type": "execute_result"
    }
   ],
   "source": [
    "clustered_data.head(1)"
   ]
  },
  {
   "cell_type": "code",
   "execution_count": 60,
   "id": "c24f282e-a67c-4bbe-addf-56e343a541f7",
   "metadata": {},
   "outputs": [
    {
     "name": "stderr",
     "output_type": "stream",
     "text": [
      "/swst/apps/anaconda3/2021.05_gcc-8.5.0/lib/python3.8/site-packages/IPython/core/pylabtools.py:132: UserWarning: Creating legend with loc=\"best\" can be slow with large amounts of data.\n",
      "  fig.canvas.print_figure(bytes_io, **kw)\n"
     ]
    },
    {
     "data": {
      "image/png": "[encoded data removed]",
      "text/plain": [
       "<Figure size 432x288 with 1 Axes>"
      ]
     },
     "metadata": {
      "needs_background": "light"
     },
     "output_type": "display_data"
    }
   ],
   "source": [
    "feature_1 = \"District\"\n",
    "feature_2 = \"Year\"\n",
    "\n",
    "visualize_clusters_2D(clustered_data, feature_1, feature_2, num_centers)"
   ]
  },
  {
   "cell_type": "code",
   "execution_count": null,
   "id": "1b588fad-4dfc-40c6-ae87-3196f209decb",
   "metadata": {},
   "outputs": [],
   "source": []
  }
 ],
 "metadata": {
  "kernelspec": {
   "display_name": "Python 3",
   "language": "python",
   "name": "python3"
  },
  "language_info": {
   "codemirror_mode": {
    "name": "ipython",
    "version": 3
   },
   "file_extension": ".py",
   "mimetype": "text/x-python",
   "name": "python",
   "nbconvert_exporter": "python",
   "pygments_lexer": "ipython3",
   "version": "3.8.8"
  }
 },
 "nbformat": 4,
 "nbformat_minor": 5
}
