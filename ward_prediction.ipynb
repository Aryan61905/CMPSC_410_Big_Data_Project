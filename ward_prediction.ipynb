{
 "cells": [
  {
   "cell_type": "code",
   "execution_count": 1,
   "id": "4d817a70-1038-4ecf-8ecf-e8e9fb1f4ce1",
   "metadata": {},
   "outputs": [],
   "source": [
    "import pandas as pd\n",
    "import numpy as np\n",
    "import pyspark\n",
    "from pyspark import SparkContext\n",
    "from pyspark.sql import SparkSession\n",
    "from pyspark.sql.types import StructField, StructType, StringType, LongType, IntegerType, FloatType\n",
    "from pyspark.sql.functions import col, column\n",
    "from pyspark.sql.functions import expr\n",
    "from pyspark.sql.functions import split\n",
    "from pyspark.sql import Row\n",
    "import csv\n",
    "import pyspark.sql.functions as F\n",
    "from pyspark.sql.types import *\n",
    "from pyspark.ml import Pipeline\n",
    "from pyspark.ml.feature import OneHotEncoder, StringIndexer, VectorAssembler, IndexToString, StandardScaler, PCA\n",
    "from pyspark.ml.classification import DecisionTreeClassifier\n",
    "from decision_tree_plot.decision_tree_parser import decision_tree_parse\n",
    "from decision_tree_plot.decision_tree_plot import plot_trees\n",
    "from pyspark.ml.evaluation import MulticlassClassificationEvaluator, BinaryClassificationEvaluator"
   ]
  },
  {
   "cell_type": "code",
   "execution_count": 2,
   "id": "3b099f61-1d42-4f80-8888-aef594efcf70",
   "metadata": {},
   "outputs": [],
   "source": [
    "from sklearn.model_selection import train_test_split\n",
    "from sklearn.ensemble import RandomForestClassifier\n",
    "from sklearn.metrics import accuracy_score"
   ]
  },
  {
   "cell_type": "code",
   "execution_count": 4,
   "id": "f6f010d1-a88b-42fb-8313-eb5d841e9be9",
   "metadata": {},
   "outputs": [],
   "source": [
    "ss = SparkSession.builder.appName(\"Project\").config(\"spark.driver.memory\", \"24g\").config(\"spark.kryoserializer.buffer.max\", \"1024m\").getOrCreate()"
   ]
  },
  {
   "cell_type": "code",
   "execution_count": 5,
   "id": "60464d9a-c181-4668-9ca0-f2a19d918eb2",
   "metadata": {},
   "outputs": [],
   "source": [
    "schema = StructType([ StructField(\"ID\", IntegerType(), False ), \\\n",
    "                        StructField(\"Case Number\", StringType(), False), \\\n",
    "                        StructField(\"Date\", StringType(), False ), \\\n",
    "                        StructField(\"Block\", StringType(), False ), \\\n",
    "                        StructField(\"IUCR\", StringType(), False), \\\n",
    "                        StructField(\"Primary Type\", StringType(), False), \\\n",
    "                        StructField(\"Description\", StringType(), False),\\\n",
    "                        StructField(\"Location Description\", StringType(), False), \\\n",
    "                        StructField(\"Arrest\", StringType(), False), \\\n",
    "                        StructField(\"Domestic\", StringType(), False), \\\n",
    "                        StructField(\"District\", StringType(), False) ,\\\n",
    "                        StructField(\"Ward\", StringType(), False ), \\\n",
    "                        StructField(\"Community Area\", StringType(), False ), \\\n",
    "                        StructField(\"FBI Code\", StringType(), False), \\\n",
    "                        StructField(\"Year\", StringType(), False), \\\n",
    "                        StructField(\"Latitude\", StringType(), False),\\\n",
    "                        StructField(\"Longitude\", StringType(), False)\n",
    "                           ])"
   ]
  },
  {
   "cell_type": "code",
   "execution_count": 6,
   "id": "4c8d554c-a1cb-47e5-ba31-1ffabe602dea",
   "metadata": {},
   "outputs": [],
   "source": [
    "data = ss.read.csv(\"new_file3.csv\",schema=schema, header=True, inferSchema=False)"
   ]
  },
  {
   "cell_type": "markdown",
   "id": "70383cb5-94ef-435b-aaf6-c777b433f6c6",
   "metadata": {},
   "source": [
    "Predicting Ward "
   ]
  },
  {
   "cell_type": "code",
   "execution_count": 7,
   "id": "923d9e08-a8b1-4dde-b766-269181132e1f",
   "metadata": {},
   "outputs": [],
   "source": [
    "df = data.drop(*['Case Number', 'Block', 'Description', 'District', 'Community Area', 'Latitude', 'Longitude'])"
   ]
  },
  {
   "cell_type": "code",
   "execution_count": 8,
   "id": "f3c247e8-8a97-48c4-93d3-60b938212142",
   "metadata": {},
   "outputs": [
    {
     "data": {
      "text/plain": [
       "DataFrame[ID: int, Date: string, IUCR: string, Primary Type: string, Location Description: string, Arrest: string, Domestic: string, Ward: string, FBI Code: string, Year: string]"
      ]
     },
     "execution_count": 8,
     "metadata": {},
     "output_type": "execute_result"
    }
   ],
   "source": [
    "df1 = df\n",
    "df1.persist()"
   ]
  },
  {
   "cell_type": "code",
   "execution_count": 9,
   "id": "313f121b-3b2d-48bf-9612-2c3a6e6d438f",
   "metadata": {},
   "outputs": [
    {
     "data": {
      "text/plain": [
       "DataFrame[ID: int, Date: string, IUCR: string, Primary Type: string, Location Description: string, Arrest: string, Domestic: string, Ward: string, FBI Code: string, Year: string, Date_index: double, Primary Type_index: double, IUCR_index: double, Location Description_index: double, Arrest_index: double, Domestic_index: double, FBI Code_index: double, Year_index: double, i_ward: double]"
      ]
     },
     "execution_count": 9,
     "metadata": {},
     "output_type": "execute_result"
    }
   ],
   "source": [
    "# List of categorical columns to convert to numerical\n",
    "categorical_cols = [\"Date\", \"Primary Type\", \"IUCR\", \"Location Description\", \"Arrest\", \"Domestic\", \"FBI Code\", \"Year\"]\n",
    "\n",
    "# StringIndexer to convert categorical strings to numerical indices\n",
    "indexers = [StringIndexer(inputCol=col, outputCol=f\"{col}_index\").fit(df1) for col in categorical_cols]\n",
    "indexed_df = df1\n",
    "for indexer in indexers:\n",
    "    indexed_df = indexer.transform(indexed_df)\n",
    "StringIndexer(inputCol='Ward', outputCol=\"i_ward\").fit(df1)\n",
    "indexed_df = StringIndexer(inputCol='Ward', outputCol=\"i_ward\").fit(indexed_df).transform(indexed_df)\n",
    "indexed_df"
   ]
  },
  {
   "cell_type": "code",
   "execution_count": 10,
   "id": "f356f68a-c419-4d5d-ad3c-889d98e1e6b8",
   "metadata": {},
   "outputs": [
    {
     "name": "stdout",
     "output_type": "stream",
     "text": [
      "+--------+----------------------+----+---------------+------------------------------+------+--------+----+--------+----+----------+------------------+----------+--------------------------+------------+--------------+--------------+----------+------+-----------------------------------------+------------------------------------------------------------------------------------------------------------------------------------------------------------------+-----------------------------------------------------------------------------------------------------------------------------------------------------------------+\n",
      "|ID      |Date                  |IUCR|Primary Type   |Location Description          |Arrest|Domestic|Ward|FBI Code|Year|Date_index|Primary Type_index|IUCR_index|Location Description_index|Arrest_index|Domestic_index|FBI Code_index|Year_index|i_ward|features                                 |scaledFeatures                                                                                                                                                    |pcaFeatures                                                                                                                                                      |\n",
      "+--------+----------------------+----+---------------+------------------------------+------+--------+----+--------+----+----------+------------------+----------+--------------------------+------------+--------------+--------------+----------+------+-----------------------------------------+------------------------------------------------------------------------------------------------------------------------------------------------------------------+-----------------------------------------------------------------------------------------------------------------------------------------------------------------+\n",
      "|10224738|09/05/2015 01:30:00 PM|0486|BATTERY        |RESIDENCE                     |False |True    |12.0|08B     |2015|522322.0  |1.0               |0.0       |1.0                       |0.0         |1.0           |1.0           |17.0      |37.0  |[522322.0,1.0,0.0,1.0,0.0,1.0,1.0,17.0]  |[-0.25162708076865553,-0.6841246286230519,-0.6220446653134819,-0.4668677201349519,-0.5909919186161732,2.4760536459746754,-0.7091529596921091,1.3998908998875355]  |[1.5989537346403553,-0.6250547131299387,-2.446524195358385,0.6206057927553393,-0.6921322609737302,0.5236385430808516,-0.032457916083838335,-0.08171139000876469] |\n",
      "|10224739|09/04/2015 11:30:00 AM|0870|THEFT          |CTA BUS                       |False |False   |29.0|06      |2015|161387.0  |0.0               |26.0      |28.0                      |0.0         |0.0           |0.0           |17.0      |18.0  |(8,[0,2,3,7],[161387.0,26.0,28.0,17.0])  |[-0.680483419515848,-0.936572202802688,0.14425264304629284,1.469748311662416,-0.5909919186161732,-0.4038684139461939,-0.9525408243560282,1.3998908998875355]      |[1.1042626106885562,-0.9148434369072143,-0.2365023100930673,-1.997842334248076,-0.07396652849932808,0.6037140007625579,0.653080192005654,0.022509007300926857]   |\n",
      "|10224740|09/05/2015 12:45:00 PM|2023|NARCOTICS      |SIDEWALK                      |True  |False   |35.0|18      |2015|837483.0  |3.0               |124.0     |3.0                       |1.0         |0.0           |4.0           |17.0      |33.0  |[837483.0,3.0,124.0,3.0,1.0,0.0,4.0,17.0]|[0.12284143177765866,-0.17922948026377974,3.0326040360946744,-0.3234146807425543,1.6920702759980468,-0.4038684139461939,0.021010634299648286,1.3998908998875355]  |[-1.8886465040130573,0.6962868108171182,-0.6092326000540186,-0.5280141089127364,0.5646581322986811,2.040171667102035,2.266076398278933,0.12976645091704184]      |\n",
      "|10224741|09/05/2015 01:00:00 PM|0560|ASSAULT        |APARTMENT                     |False |True    |28.0|08A     |2015|140972.0  |4.0               |6.0       |2.0                       |0.0         |1.0           |6.0           |17.0      |0.0   |[140972.0,4.0,6.0,2.0,0.0,1.0,6.0,17.0]  |[-0.7047401476123859,0.07321809391585636,-0.44520682492276464,-0.3951412004387531,-0.5909919186161732,2.4760536459746754,0.5077863636274865,1.3998908998875355]   |[0.43402509526569494,-1.2827027323326563,-2.348427600996411,0.8268232291549137,-0.8970995736929293,0.5637028706785921,-0.5779057036568163,0.2550360217049464]    |\n",
      "|10224742|09/05/2015 10:55:00 AM|0610|BURGLARY       |RESIDENCE                     |False |False   |21.0|05      |2015|2313775.0 |6.0               |8.0       |1.0                       |0.0         |0.0           |5.0           |17.0      |9.0   |[2313775.0,6.0,8.0,1.0,0.0,0.0,5.0,17.0] |[1.8769444753776703,0.5781132422751285,-0.3862608781258589,-0.4668677201349519,-0.5909919186161732,-0.4038684139461939,0.26439849896356743,1.3998908998875355]    |[-0.4745822028252895,0.31038711500648963,-1.4876222066761464,-0.5546984417481804,1.6130797709196665,-1.0508936994796407,-0.3549127344589965,-0.30271286164039196]|\n",
      "|10224743|09/04/2015 06:00:00 PM|0620|BURGLARY       |RESIDENCE-GARAGE              |False |False   |32.0|05      |2015|106982.0  |6.0               |14.0      |9.0                       |0.0         |0.0           |5.0           |17.0      |24.0  |[106982.0,6.0,14.0,9.0,0.0,0.0,5.0,17.0] |[-0.7451264414160267,0.5781132422751285,-0.20942303773514165,0.10694443743463856,-0.5909919186161732,-0.4038684139461939,0.26439849896356743,1.3998908998875355]  |[-0.2286309394287136,-1.3977022633148326,-0.43822802373812136,-0.6356937218604574,0.6575004080111537,0.4391799456676661,-0.4570838353183453,-0.22494493027464105]|\n",
      "|10224744|09/05/2015 01:00:00 PM|0860|THEFT          |GROCERY FOOD STORE            |True  |False   |25.0|06      |2015|140972.0  |0.0               |11.0      |14.0                      |1.0         |0.0           |0.0           |17.0      |25.0  |[140972.0,0.0,11.0,14.0,1.0,0.0,0.0,17.0]|[-0.7047401476123859,-0.936572202802688,-0.2978419579305003,0.4655770359156326,1.6920702759980468,-0.4038684139461939,-0.9525408243560282,1.3998908998875355]     |[0.8379491732548617,0.6417984046085455,-0.12514423028273444,-1.2169675432985143,0.3221233621384925,2.2008976137592446,-0.11676534359917133,0.02133171965756641]  |\n",
      "|10224745|09/05/2015 11:30:00 AM|0320|ROBBERY        |STREET                        |False |True    |27.0|03      |2015|379071.0  |9.0               |18.0      |0.0                       |0.0         |1.0           |8.0           |17.0      |3.0   |[379071.0,9.0,18.0,0.0,0.0,1.0,8.0,17.0] |[-0.42183528829043665,1.3354559648140367,-0.09153114414133016,-0.5385942398311507,-0.5909919186161732,2.4760536459746754,0.9945620929553249,1.3998908998875355]   |[-0.7813012082908957,-1.4348885701585024,-2.5175272782811002,1.0625831133405317,-0.8407391664775754,0.2588211991484668,-0.8283112980950019,-0.3041662730369588]  |\n",
      "|10224746|09/05/2015 02:00:00 PM|0820|THEFT          |PARKING LOT/GARAGE(NON.RESID.)|False |False   |13.0|06      |2015|93060.0   |0.0               |1.0       |5.0                       |0.0         |0.0           |0.0           |17.0      |36.0  |(8,[0,2,3,7],[93060.0,1.0,5.0,17.0])     |[-0.7616683061507806,-0.936572202802688,-0.592571691915029,-0.17996164135015666,-0.5909919186161732,-0.4038684139461939,-0.9525408243560282,1.3998908998875355]   |[1.5478596268131064,-0.8863635682734736,-0.36877497927506675,-0.6670271778726611,0.9275045709735837,0.7585932354073859,0.14707675411814952,-0.021287577465358594]|\n",
      "|10224749|09/05/2015 11:00:00 AM|0460|BATTERY        |SMALL RETAIL STORE            |False |False   |45.0|08B     |2015|184981.0  |1.0               |2.0       |7.0                       |0.0         |0.0           |1.0           |17.0      |45.0  |[184981.0,1.0,2.0,7.0,0.0,0.0,1.0,17.0]  |[-0.65244946199884,-0.6841246286230519,-0.5630987185165761,-0.03650860195775905,-0.5909919186161732,-0.4038684139461939,-0.7091529596921091,1.3998908998875355]   |[1.22708754133124,-0.9108083460526385,-0.4129109099809948,-0.7493026513103069,0.8561245896926906,0.6214237367707733,0.004958917116500274,-0.026391731945822887]  |\n",
      "|10224750|09/05/2015 03:00:00 AM|2820|OTHER OFFENSE  |APARTMENT                     |False |True    |34.0|26      |2015|161445.0  |5.0               |12.0      |2.0                       |0.0         |1.0           |3.0           |17.0      |11.0  |[161445.0,5.0,12.0,2.0,0.0,1.0,3.0,17.0] |[-0.6804145049809668,0.32566566809549247,-0.2683689845320474,-0.3951412004387531,-0.5909919186161732,2.4760536459746754,-0.22237723036427084,1.3998908998875355]  |[0.6172636798877119,-1.193373275496562,-2.320937241948624,0.7651728072942224,-0.914092720435802,0.6377314922015745,-0.2710018069568795,-0.43970161195549895]     |\n",
      "|10224751|09/05/2015 12:50:00 PM|0486|BATTERY        |STREET                        |False |True    |4.0 |08B     |2015|2313811.0 |1.0               |0.0       |0.0                       |0.0         |1.0           |1.0           |17.0      |19.0  |[2313811.0,1.0,0.0,0.0,0.0,1.0,1.0,17.0] |[1.876987249916562,-0.6841246286230519,-0.6220446653134819,-0.5385942398311507,-0.5909919186161732,2.4760536459746754,-0.7091529596921091,1.3998908998875355]     |[1.3120414843841155,0.7441183892862467,-3.2592505032935652,0.3711834683867768,-0.15660595676267178,-0.715887947678095,0.14223113858660857,-0.13390220892343185]  |\n",
      "|10224752|09/03/2015 01:00:00 PM|0810|THEFT          |STREET                        |False |False   |1.0 |06      |2015|106935.0  |0.0               |5.0       |0.0                       |0.0         |0.0           |0.0           |17.0      |20.0  |(8,[0,2,7],[106935.0,5.0,17.0])          |[-0.7451822859529131,-0.936572202802688,-0.47467979832121754,-0.5385942398311507,-0.5909919186161732,-0.4038684139461939,-0.9525408243560282,1.3998908998875355]  |[1.501880920048473,-0.8736415983110879,-0.4125192552169151,-0.3821861203001193,1.1229245671321264,0.8086517947118581,0.27614408276934754,-0.03180132060164787]   |\n",
      "|10224753|09/05/2015 11:45:00 AM|0497|BATTERY        |APARTMENT                     |False |False   |21.0|04B     |2015|522344.0  |1.0               |46.0      |2.0                       |0.0         |0.0           |10.0          |17.0      |9.0   |[522344.0,1.0,46.0,2.0,0.0,0.0,10.0,17.0]|[-0.25160094077266615,-0.6841246286230519,0.7337121110153503,-0.3951412004387531,-0.5909919186161732,-0.4038684139461939,1.4813378222831632,1.3998908998875355]   |[-0.7143796013499176,-1.105715125292387,-0.7352022960664057,-0.2779512471285165,0.9938935945683497,0.3205237601944906,0.4477781716159682,1.5001494178224082]     |\n",
      "|10224754|09/05/2015 01:30:00 PM|1320|CRIMINAL DAMAGE|STREET                        |False |False   |28.0|14      |2015|522322.0  |2.0               |3.0       |0.0                       |0.0         |0.0           |2.0           |17.0      |0.0   |[522322.0,2.0,3.0,0.0,0.0,0.0,2.0,17.0]  |[-0.25162708076865553,-0.4316770544434158,-0.5336257451181233,-0.5385942398311507,-0.5909919186161732,-0.4038684139461939,-0.46576509502818997,1.3998908998875355]|[0.8930207008397136,-0.7323375528804288,-0.6333095730185238,-0.3569659962846366,1.2204318551667501,0.39295974382747784,-0.06439057947164407,-0.05645206605534399]|\n",
      "|10224756|07/08/2015 12:00:00 AM|0620|BURGLARY       |OTHER                         |False |False   |10.0|05      |2015|242437.0  |6.0               |14.0      |4.0                       |0.0         |0.0           |5.0           |17.0      |21.0  |[242437.0,6.0,14.0,4.0,0.0,0.0,5.0,17.0] |[-0.5841812979275843,0.5781132422751285,-0.20942303773514165,-0.2516881610463555,-0.5909919186161732,-0.4038684139461939,0.26439849896356743,1.3998908998875355]  |[-0.2358730102678445,-1.2856503023575498,-0.5357518958165071,-0.3718679824992211,0.899303295036558,0.38908058440315213,-0.4167409739959958,-0.2387845601129895]  |\n",
      "|10224757|09/05/2015 09:55:00 AM|0610|BURGLARY       |RESIDENCE                     |True  |False   |21.0|05      |2015|2313758.0 |6.0               |8.0       |1.0                       |1.0         |0.0           |5.0           |17.0      |9.0   |[2313758.0,6.0,8.0,1.0,1.0,0.0,5.0,17.0] |[1.8769242762898604,0.5781132422751285,-0.3862608781258589,-0.4668677201349519,1.6920702759980468,-0.4038684139461939,0.26439849896356743,1.3998908998875355]     |[-1.004308178694006,1.8338720825470145,-1.2861750881974694,-0.5802659039714094,1.3944235555632198,0.46594440863223974,-0.8242034412752366,-0.27663340332036157]  |\n",
      "|10224758|09/05/2015 12:35:00 PM|0486|BATTERY        |STREET                        |False |True    |38.0|08B     |2015|837480.0  |1.0               |0.0       |0.0                       |0.0         |1.0           |1.0           |17.0      |42.0  |[837480.0,1.0,0.0,0.0,0.0,1.0,1.0,17.0]  |[0.12283786723275102,-0.6841246286230519,-0.6220446653134819,-0.5385942398311507,-0.5909919186161732,2.4760536459746754,-0.7091529596921091,1.3998908998875355]   |[1.550898653002672,-0.38276315260440624,-2.595535434583228,0.62403386443163,-0.5642338641969329,0.31288148847273156,0.0028141910436514854,-0.092548416316926]    |\n",
      "|10224759|09/04/2015 10:30:00 PM|1320|CRIMINAL DAMAGE|STREET                        |False |False   |10.0|14      |2015|184922.0  |2.0               |3.0       |0.0                       |0.0         |0.0           |2.0           |17.0      |21.0  |[184922.0,2.0,3.0,0.0,0.0,0.0,2.0,17.0]  |[-0.6525195647153571,-0.4316770544434158,-0.5336257451181233,-0.5385942398311507,-0.5909919186161732,-0.4038684139461939,-0.46576509502818997,1.3998908998875355] |[0.9476090070474007,-0.9898745362763652,-0.4816244399536028,-0.2991796843901268,1.1272727628166472,0.6280742322161177,-0.09625286381099193,-0.04700108952945982] |\n",
      "|10224761|09/02/2015 12:01:00 AM|1310|CRIMINAL DAMAGE|RESIDENCE-GARAGE              |False |False   |45.0|14      |2015|184772.0  |2.0               |4.0       |9.0                       |0.0         |0.0           |2.0           |17.0      |45.0  |[184772.0,2.0,4.0,9.0,0.0,0.0,2.0,17.0]  |[-0.6526977919607394,-0.4316770544434158,-0.5041527717196704,0.10694443743463856,-0.5909919186161732,-0.4038684139461939,-0.46576509502818997,1.3998908998875355] |[0.9066194684261836,-1.0072078671938889,-0.4158476983517722,-0.8157509757973566,0.7561033119955158,0.5523132587051942,-0.12080773228734601,-0.02893514374951141] |\n",
      "+--------+----------------------+----+---------------+------------------------------+------+--------+----+--------+----+----------+------------------+----------+--------------------------+------------+--------------+--------------+----------+------+-----------------------------------------+------------------------------------------------------------------------------------------------------------------------------------------------------------------+-----------------------------------------------------------------------------------------------------------------------------------------------------------------+\n",
      "only showing top 20 rows\n",
      "\n"
     ]
    }
   ],
   "source": [
    "selected_columns = [f\"{col}_index\" for col in categorical_cols]\n",
    "assembler = VectorAssembler(inputCols=selected_columns, outputCol=\"features\")\n",
    "assembled_df = assembler.transform(indexed_df)\n",
    "\n",
    "# Scale the features\n",
    "scaler = StandardScaler(inputCol=\"features\", outputCol=\"scaledFeatures\", withStd=True, withMean=True)\n",
    "scaled_df = scaler.fit(assembled_df).transform(assembled_df)\n",
    "\n",
    "# Apply PCA\n",
    "num_principal_components = 8  # Set the number of principal components\n",
    "pca = PCA(k=num_principal_components, inputCol=\"scaledFeatures\", outputCol=\"pcaFeatures\")\n",
    "pca_model = pca.fit(scaled_df)\n",
    "result = pca_model.transform(scaled_df)"
   ]
  },
  {
   "cell_type": "code",
   "execution_count": 11,
   "id": "50f4a366-438a-457e-bb96-e84be7bed4c5",
   "metadata": {},
   "outputs": [],
   "source": [
    "df1 = result.select(\"pcaFeatures\",\"i_ward\")"
   ]
  },
  {
   "cell_type": "raw",
   "id": "edb68c8b-770d-467c-b07e-94fb6f3785ce",
   "metadata": {},
   "source": [
    "# Convert Spark DataFrame to Pandas DataFrame\n",
    "pandas_df = result.select(\"pcaFeatures\",\"Ward\").toPandas()\n",
    "X = pandas_df['pcaFeatures'].apply(lambda x: x.toArray()).tolist()\n",
    "y = pandas_df['Ward'].tolist()  # Replace with your target labels\n",
    "\n",
    "# Split the data into train and test sets\n",
    "X_train, X_test, y_train, y_test = train_test_split(X, y, test_size=0.2, random_state=42)\n",
    "\n",
    "# Train a classifier (Example: Random Forest)\n",
    "clf = RandomForestClassifier(n_estimators=10, random_state=42)\n",
    "clf.fit(X_train, y_train)\n",
    "\n",
    "# Predict on the test set\n",
    "y_pred = clf.predict(X_test)\n",
    "\n",
    "# Calculate accuracy\n",
    "accuracy = accuracy_score(y_test, y_pred)\n",
    "print(f\"Accuracy: {accuracy}\")"
   ]
  },
  {
   "cell_type": "code",
   "execution_count": 12,
   "id": "545f8599-0f9a-491d-80b9-b366cb0b4bab",
   "metadata": {},
   "outputs": [],
   "source": [
    "model_path=\"/storage/home/cpw5598/MiniProj/DT_HPT_cluster\""
   ]
  },
  {
   "cell_type": "code",
   "execution_count": 13,
   "id": "eb947e53-8fca-487e-b519-2a051947d839",
   "metadata": {},
   "outputs": [
    {
     "name": "stdout",
     "output_type": "stream",
     "text": [
      "The best max_depth is  11 , best minInstancesPerNode =  4 , testing f1 =  0.04261125603308231\n"
     ]
    }
   ],
   "source": [
    "trainingData, testingData= df1.randomSplit([0.8, 0.2], seed=1234)\n",
    "\n",
    "## Initialize a Pandas DataFrame to store evaluation results of all combination of hyper-parameter settings\n",
    "hyperparams_eval_df = pd.DataFrame( columns = ['max_depth', 'minInstancesPerNode', 'training f1', 'testing f1', 'Best Model'] )\n",
    "# initialize index to the hyperparam_eval_df to 0\n",
    "index =0 \n",
    "# initialize lowest_error\n",
    "highest_testing_f1 = 0\n",
    "# Set up the possible hyperparameter values to be evaluated\n",
    "max_depth_list = [2, 3, 4, 5, 6, 7, 8, 9, 10, 11]\n",
    "minInstancesPerNode_list = [2, 3, 4, 5, 6]\n",
    "trainingData.persist()\n",
    "testingData.persist()\n",
    "for max_depth in max_depth_list:\n",
    "    for minInsPN in minInstancesPerNode_list:\n",
    "        seed = 37\n",
    "        # Construct a DT model using a set of hyper-parameter values and training data\n",
    "        dt= DecisionTreeClassifier(labelCol=\"i_ward\", featuresCol=\"pcaFeatures\", maxDepth=max_depth, minInstancesPerNode=minInsPN)\n",
    "        model = dt.fit(trainingData)\n",
    "        training_predictions = model.transform(trainingData)\n",
    "        testing_predictions = model.transform(testingData)\n",
    "        evaluator = MulticlassClassificationEvaluator(labelCol=\"i_ward\", predictionCol=\"prediction\", metricName=\"f1\")\n",
    "        training_f1 = evaluator.evaluate(training_predictions)\n",
    "        testing_f1 = evaluator.evaluate(testing_predictions)\n",
    "        # We use 0 as default value of the 'Best Model' column in the Pandas DataFrame.\n",
    "        # The best model will have a value 1000\n",
    "        hyperparams_eval_df.loc[index] = [max_depth, minInsPN, training_f1, testing_f1, 0]  \n",
    "        index = index +1\n",
    "        if testing_f1 > highest_testing_f1 :\n",
    "            best_max_depth = max_depth\n",
    "            best_minInsPN = minInsPN\n",
    "            best_index = index -1\n",
    "            best_parameters_training_f1 = training_f1\n",
    "            best_DTmodel= model\n",
    "            best_tree = decision_tree_parse(best_DTmodel, ss, model_path)\n",
    "            column = dict( [ (str(idx), i) for idx, i in enumerate(selected_columns) ])           \n",
    "            highest_testing_f1 = testing_f1\n",
    "print('The best max_depth is ', best_max_depth, ', best minInstancesPerNode = ', \\\n",
    "      best_minInsPN, ', testing f1 = ', highest_testing_f1) \n",
    "column = dict([(str(idx), i) for idx, i in enumerate(selected_columns)])"
   ]
  },
  {
   "cell_type": "code",
   "execution_count": 14,
   "id": "6139b2c3-2321-445d-a4d2-e49540c77b54",
   "metadata": {},
   "outputs": [],
   "source": [
    "# Store the Testing RMS in the DataFrame\n",
    "hyperparams_eval_df.loc[best_index]=[best_max_depth, best_minInsPN, best_parameters_training_f1, highest_testing_f1, 1000]"
   ]
  },
  {
   "cell_type": "code",
   "execution_count": 15,
   "id": "3abcf840-9a1e-4e74-a970-765cd8864385",
   "metadata": {},
   "outputs": [],
   "source": [
    "output_path = \"/storage/home/cpw5598/MiniProj/ward_predictionHP.csv\"\n",
    "hyperparams_eval_df.to_csv(output_path) "
   ]
  },
  {
   "cell_type": "code",
   "execution_count": null,
   "id": "1a6a6ceb-8eae-45ca-a45a-fd5276950c49",
   "metadata": {},
   "outputs": [],
   "source": []
  }
 ],
 "metadata": {
  "kernelspec": {
   "display_name": "Python\n(ds410_f23)",
   "language": "python",
   "name": "ds410_f23"
  },
  "language_info": {
   "codemirror_mode": {
    "name": "ipython",
    "version": 3
   },
   "file_extension": ".py",
   "mimetype": "text/x-python",
   "name": "python",
   "nbconvert_exporter": "python",
   "pygments_lexer": "ipython3",
   "version": "3.8.8"
  }
 },
 "nbformat": 4,
 "nbformat_minor": 5
}
