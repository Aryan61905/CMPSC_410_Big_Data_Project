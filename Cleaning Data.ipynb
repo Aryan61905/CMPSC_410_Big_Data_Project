{
 "cells": [
  {
   "cell_type": "code",
   "execution_count": 4,
   "id": "798ae4e0-9fb1-4661-a45a-b4460608b82a",
   "metadata": {},
   "outputs": [],
   "source": [
    "import pandas as pd\n",
    "import numpy as nm\n",
    "import pyspark\n",
    "from pyspark import SparkContext\n",
    "from pyspark.sql import SparkSession\n",
    "from pyspark.sql.types import StructField, StructType, StringType, LongType, IntegerType, FloatType\n",
    "from pyspark.sql.functions import col, column\n",
    "from pyspark.sql.functions import expr\n",
    "from pyspark.sql.functions import split\n",
    "from pyspark.sql import Row"
   ]
  },
  {
   "cell_type": "code",
   "execution_count": 5,
   "id": "093b2456-4566-4eac-883b-a62f52083216",
   "metadata": {},
   "outputs": [],
   "source": [
    "df3 = pd.read_csv(\"dataset.csv\", low_memory=False,index_col=0)"
   ]
  },
  {
   "cell_type": "code",
   "execution_count": 56,
   "id": "87cdb26c-f8e9-474d-b517-f13e7c55f19a",
   "metadata": {},
   "outputs": [],
   "source": [
    "df3.drop(['Beat','X Coordinate','Y Coordinate','Location','Updated On'],axis=1,inplace=True)"
   ]
  },
  {
   "cell_type": "code",
   "execution_count": 57,
   "id": "1219900b-8d03-4bb4-9a6b-d8edcee28373",
   "metadata": {},
   "outputs": [],
   "source": [
    "df3.to_csv(\"new_file2.csv\")"
   ]
  },
  {
   "cell_type": "code",
   "execution_count": 6,
   "id": "8413050b-4c07-46bc-8c52-2949d33c07ff",
   "metadata": {},
   "outputs": [],
   "source": [
    "df4 = pd.read_csv(\"new_file2.csv\", low_memory=False,index_col=0)"
   ]
  },
  {
   "cell_type": "code",
   "execution_count": 8,
   "id": "a836aef5-9829-43b4-a55f-ca2668c1f1a6",
   "metadata": {},
   "outputs": [],
   "source": [
    "df4.dropna(0,'any',inplace=True)"
   ]
  },
  {
   "cell_type": "code",
   "execution_count": 9,
   "id": "7e07c0e1-a9cb-4577-b7dc-6721fa398ef6",
   "metadata": {},
   "outputs": [],
   "source": [
    "df4.to_csv(\"new_file3.csv\")"
   ]
  }
 ],
 "metadata": {
  "kernelspec": {
   "display_name": "Python 3 (ipykernel)",
   "language": "python",
   "name": "python3"
  },
  "language_info": {
   "codemirror_mode": {
    "name": "ipython",
    "version": 3
   },
   "file_extension": ".py",
   "mimetype": "text/x-python",
   "name": "python",
   "nbconvert_exporter": "python",
   "pygments_lexer": "ipython3",
   "version": "3.8.8"
  }
 },
 "nbformat": 4,
 "nbformat_minor": 5
}
